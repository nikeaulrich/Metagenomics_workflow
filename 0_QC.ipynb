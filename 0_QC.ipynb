{
 "cells": [
  {
   "cell_type": "markdown",
   "id": "9b38e18a-83fc-4097-9469-649628aa476c",
   "metadata": {},
   "source": [
    "# QC and trimming"
   ]
  },
  {
   "cell_type": "code",
   "execution_count": null,
   "id": "c588fe14-3cea-46be-a560-6759e7821f7b",
   "metadata": {},
   "outputs": [],
   "source": [
    "#INSTALLATION\n",
    "module load conda/latest\n",
    "conda create -n qc\n",
    "conda activate qc\n",
    "conda install -c bioconda trim-galore"
   ]
  },
  {
   "cell_type": "code",
   "execution_count": null,
   "id": "cd723ef8-b484-4376-bab3-193d2e90b5c6",
   "metadata": {},
   "outputs": [],
   "source": [
    "#!/bin/bash\n",
    "#SBATCH -c 24  # Number of Cores per Task\n",
    "#SBATCH --mem=50G  # Requested Memory\n",
    "#SBATCH -p cpu  # Partition\n",
    "#SBATCH -t 24:00:00  # Job time limit\n",
    "#SBATCH --mail-type=ALL\n",
    "#SBATCH -o /work/pi_sarah_gignouxwolfsohn_uml_edu/nikea/COL/slurm-qc-%j.out  # %j = job ID\n",
    "\n",
    "module load conda/latest\n",
    "\n",
    "# Run qc with trim galore and fastqc\n",
    "conda activate qc\n",
    "\n",
    "# Define the paths and variables\n",
    "FILEPATH='/project/pi_sarah_gignouxwolfsohn_uml_edu/nikea/COL_files/10162024fastq_data'\n",
    "OUTPUT_RESULTS='/work/pi_sarah_gignouxwolfsohn_uml_edu/nikea/COL/trimmed'\n",
    "NSLOTS=4  \n",
    "\n",
    "#create filename if not already created\n",
    "ls $FILEPATH -1 | sed 's/_R.*_001.fastq.gz//' | uniq | cat > $OUTPUT_RESULTS/'032024_sampleids.txt'\n",
    "\n",
    "SAMPLE_NAMES_FILE=\"/work/pi_sarah_gignouxwolfsohn_uml_edu/nikea/COL/trimmed/032024_sampleids.txt\"\n",
    "\n",
    "# Check if the file exists\n",
    "if [ ! -e \"$SAMPLE_NAMES_FILE\" ]; then\n",
    "    echo \"Error: $SAMPLE_NAMES_FILE does not exist.\"\n",
    "    exit 1\n",
    "fi\n",
    "\n",
    "# Read each line from the file and perform actions\n",
    "while IFS= read -r sample_id; do\n",
    "    # Form the full file names\n",
    "    input_r1=\"$FILEPATH/${sample_id}_R1_001.fastq.gz\"\n",
    "    input_r2=\"$FILEPATH/${sample_id}_R2_001.fastq.gz\"\n",
    "    \n",
    "    # Ensure the input files exist before running the tools\n",
    "    if [ ! -e \"$input_r1\" ] || [ ! -e \"$input_r2\" ]; then\n",
    "        echo \"Error: Input files do not exist for sample $sample_id\"\n",
    "        continue\n",
    "    fi\n",
    "\n",
    "    # Run trim_galore\n",
    "    trim_galore -j \"$NSLOTS\" -q 20 --phred33 --length 20 --paired $input_r1 $input_r2 --fastqc -o $OUTPUT_RESULTS\n",
    "\n",
    "\n",
    "done < \"$SAMPLE_NAMES_FILE\"\n",
    "\n",
    "# bash script file name: \n",
    "# JOB-ID: \n",
    "#trimmed read seqs in folder: /work/pi_sarah_gignouxwolfsohn_uml_edu/nikea/COL/trimmed"
   ]
  },
  {
   "cell_type": "code",
   "execution_count": null,
   "id": "01acbe75-7f93-473f-8ce4-b196b26bed99",
   "metadata": {},
   "outputs": [],
   "source": [
    "#submit bash script \n",
    "sbatch <script name>"
   ]
  },
  {
   "cell_type": "markdown",
   "id": "cdc17bc8-c33f-41e1-9065-20dd8d51a3fb",
   "metadata": {},
   "source": [
    "## MultiQC documentation\n",
    "    https://github.com/MultiQC/MultiQC/ "
   ]
  },
  {
   "cell_type": "code",
   "execution_count": null,
   "id": "f8b11145-4d54-45be-b09d-6a4d07022e2c",
   "metadata": {},
   "outputs": [],
   "source": [
    "# Installation\n",
    "module load conda/latest\n",
    "conda create --name multiqc python=3.11\n",
    "conda activate multiqc\n",
    "conda install -c bioconda multiqc"
   ]
  },
  {
   "cell_type": "code",
   "execution_count": null,
   "id": "c5478884-5c7f-4085-b1c0-a4949f617735",
   "metadata": {},
   "outputs": [],
   "source": [
    "conda activate multiqc \n",
    "# in directory with fastqc output: /work/pi_sarah_gignouxwolfsohn_uml_edu/nikea/COL/trimmed\n",
    "multiqc .\n",
    "conda deactivate"
   ]
  },
  {
   "cell_type": "markdown",
   "id": "acf96459-4bb8-44bd-89b8-15134183d98c",
   "metadata": {},
   "source": [
    "Output files:\n",
    "\n",
    "#multiqc_data \\\n",
    "#multiqc_report.html (download this file)"
   ]
  }
 ],
 "metadata": {
  "kernelspec": {
   "display_name": "Python 3 (ipykernel)",
   "language": "python",
   "name": "python3"
  },
  "language_info": {
   "codemirror_mode": {
    "name": "ipython",
    "version": 3
   },
   "file_extension": ".py",
   "mimetype": "text/x-python",
   "name": "python",
   "nbconvert_exporter": "python",
   "pygments_lexer": "ipython3",
   "version": "3.11.0"
  }
 },
 "nbformat": 4,
 "nbformat_minor": 5
}
