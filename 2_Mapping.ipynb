{
 "cells": [
  {
   "cell_type": "markdown",
   "id": "b9f73b99-01cc-4de6-a4ba-5ab8022b4247",
   "metadata": {},
   "source": [
    "# Mapping "
   ]
  },
  {
   "cell_type": "markdown",
   "id": "7125dd51-e3a9-434d-8379-ec601dabe7c3",
   "metadata": {},
   "source": [
    "Using bowtie2 and Anvi'o\n",
    "\n",
    "https://anvio.org/ \\\n",
    "https://merenlab.org/tutorials/assembly-based-metagenomics/"
   ]
  },
  {
   "cell_type": "markdown",
   "id": "95995816-447b-451d-9e6d-d0a8d02e0717",
   "metadata": {},
   "source": [
    "Already created an anvio conda environment in 1_Assembly.ipynb"
   ]
  },
  {
   "cell_type": "code",
   "execution_count": null,
   "id": "90ad3241-d945-4011-a0f6-3eb20a4b1f95",
   "metadata": {},
   "outputs": [],
   "source": [
    "#!/bin/bash\n",
    "#SBATCH -c 24  # Number of Cores per Task\n",
    "#SBATCH --mem=180G  # Requested Memory\n",
    "#SBATCH -p cpu  # Partition\n",
    "#SBATCH -t 24:00:00  # Job time limit\n",
    "#SBATCH --mail-type=ALL\n",
    "#SBATCH -o /work/pi_sarah_gignouxwolfsohn_uml_edu/nikea/COL/mapping/pstr/slurm-mapping-%j.out  # %j = job ID\n",
    "\n",
    "module load conda/latest\n",
    "conda activate anvio-8\n",
    "\n",
    "SAMPLENAME=\"pstr\"\n",
    "READSPATH=\"/work/pi_sarah_gignouxwolfsohn_uml_edu/nikea/COL/assembly/${SAMPLENAME}/repaired\"\n",
    "CONTIGPATH=\"/work/pi_sarah_gignouxwolfsohn_uml_edu/nikea/COL/assembly/${SAMPLENAME}/megahit_assembly\"\n",
    "CONTIGFILE=\"$SAMPLENAME\".contigs.fa\n",
    "WORKPATH=\"/work/pi_sarah_gignouxwolfsohn_uml_edu/nikea/COL/mapping/${SAMPLENAME}\"\n",
    "mkdir -p \"$WORKPATH\"\n",
    "XTRAFILES=\"/project/pi_sarah_gignouxwolfsohn_uml_edu/nikea/COL_files/mapping/${SAMPLENAME}\"\n",
    "mkdir -p \"$XTRAFILES\"\n",
    "LISTPATH=\"/work/pi_sarah_gignouxwolfsohn_uml_edu/nikea/COL/\"\n",
    "SAMPLELIST=\"032024_pstr_sampleids.txt\" \n",
    " \n",
    "anvi-script-reformat-fasta $CONTIGPATH/$CONTIGFILE -o $WORKPATH/\"${SAMPLENAME}.contigs-fixed.fsa\" -l 1000 --simplify-names --report-file $WORKPATH/contig-rename-report-txt\n",
    "\n",
    "#fixes deflines (filters contigs and reformats so naming is cleaner)\n",
    "#filtering seq length 1000bp...need to play around with filtering based on bp length\n",
    "#deflines = sequence definition line. comes directly before its associated sequence in a fasta file\n",
    "\n",
    "\n",
    "FIXEDCON=\"${SAMPLENAME}.contigs-fixed.fsa\"\n",
    "\n",
    "cd $WORKPATH\n",
    "#this builds an index of your contigs, which only needs to happen once\n",
    "bowtie2-build $FIXEDCON \"$SAMPLENAME\"_contigs\n",
    "# will not accept path before contigs file - must be in the correct dir \n",
    "\n",
    "while IFS= read -r SAMPLEID; do\n",
    "    #align reads to your contigs and collects that in a .sam file\n",
    "    bowtie2 --threads 11 -x \"$SAMPLENAME\"_contigs -1 $READSPATH/\"${SAMPLEID}\"_host_removed_R1.tagged_filter_ready.fastq.gz -2 $READSPATH/\"${SAMPLEID}\"_host_removed_R2.tagged_filter_ready.fastq.gz -S $XTRAFILES/\"${SAMPLEID}\".sam\n",
    "    #make sure to point it to the index not the FIXEDCON file (-x parameter)\n",
    "    \n",
    "    #converts your sam file to a bam file, but its neither sorted nor indexed, so we use an Anvi'O script to do so:\n",
    "    samtools view -F 4 -b -S $XTRAFILES/\"${SAMPLEID}\".sam -o $WORKPATH/\"${SAMPLEID}\"-RAW.bam\n",
    "   \n",
    "    #index and sort your bam file\n",
    "    anvi-init-bam $WORKPATH/\"${SAMPLEID}\"-RAW.bam -o $WORKPATH/\"${SAMPLEID}\".bam\n",
    "    \n",
    "    rm $WORKPATH/\"${SAMPLEID}\"-RAW.bam\n",
    "done < \"$LISTPATH/${SAMPLELIST}\"\n",
    "echo \"Mapping success!\"\n",
    "\n",
    "#JOB ID: \n",
    "#bash script: "
   ]
  }
 ],
 "metadata": {
  "kernelspec": {
   "display_name": "Python 3 (ipykernel)",
   "language": "python",
   "name": "python3"
  },
  "language_info": {
   "codemirror_mode": {
    "name": "ipython",
    "version": 3
   },
   "file_extension": ".py",
   "mimetype": "text/x-python",
   "name": "python",
   "nbconvert_exporter": "python",
   "pygments_lexer": "ipython3",
   "version": "3.11.0"
  }
 },
 "nbformat": 4,
 "nbformat_minor": 5
}
